{
 "cells": [
  {
   "cell_type": "code",
   "execution_count": 1,
   "id": "ba5959d5",
   "metadata": {},
   "outputs": [
    {
     "name": "stdout",
     "output_type": "stream",
     "text": [
      "Hello, World!\n"
     ]
    }
   ],
   "source": [
    "print(\"Hello, World!\")"
   ]
  },
  {
   "cell_type": "markdown",
   "id": "7452c768",
   "metadata": {},
   "source": [
    "# Python if-else"
   ]
  },
  {
   "cell_type": "code",
   "execution_count": 1,
   "id": "fb7816db",
   "metadata": {},
   "outputs": [
    {
     "name": "stdout",
     "output_type": "stream",
     "text": [
      "Enter the number : 13\n",
      "Weird\n"
     ]
    }
   ],
   "source": [
    "import math\n",
    "import os\n",
    "import random\n",
    "import re\n",
    "import sys\n",
    "\n",
    "\n",
    "\n",
    "if __name__ == '__main__':\n",
    "    n = int(input(\"Enter the number : \").strip())\n",
    "if n % 2 != 0:\n",
    "    # n is odd\n",
    "    print(\"Weird\")\n",
    "else:\n",
    "    # the range from 2 to 5 and greater than 20 is Not Weird\n",
    "    if 2 <= n <= 5 or n > 20:\n",
    "        print(\"Not Weird\")\n",
    "    elif 6 <= n <= 20:\n",
    "        print(\"Weird\")"
   ]
  },
  {
   "cell_type": "markdown",
   "id": "b2621c4e",
   "metadata": {},
   "source": [
    "# Arithmetic Opeators"
   ]
  },
  {
   "cell_type": "code",
   "execution_count": 1,
   "id": "efd5d79b",
   "metadata": {},
   "outputs": [
    {
     "name": "stdout",
     "output_type": "stream",
     "text": [
      "Enter the value a :3\n",
      "Enter the value b :5\n",
      "8\n",
      "-2\n",
      "15\n"
     ]
    }
   ],
   "source": [
    "if __name__ == '__main__':\n",
    "    a = int(input(\"Enter the value a :\"))\n",
    "    b = int(input(\"Enter the value b :\"))\n",
    "    \n",
    "print(a + b)\n",
    "print(a - b)\n",
    "print(a * b)"
   ]
  },
  {
   "cell_type": "markdown",
   "id": "ebcc5be2",
   "metadata": {},
   "source": [
    "# Division"
   ]
  },
  {
   "cell_type": "code",
   "execution_count": 2,
   "id": "c627fb54",
   "metadata": {},
   "outputs": [
    {
     "name": "stdout",
     "output_type": "stream",
     "text": [
      "Enter the value a :3\n",
      "Enter the value b :5\n",
      "0\n",
      "0.6\n"
     ]
    }
   ],
   "source": [
    "if __name__ == '__main__':\n",
    "    a = int(input(\"Enter the value a :\"))\n",
    "    b = int(input(\"Enter the value b :\"))\n",
    "print(a // b)\n",
    "print(a / b)"
   ]
  },
  {
   "cell_type": "markdown",
   "id": "af2c484f",
   "metadata": {},
   "source": [
    "# Loops"
   ]
  },
  {
   "cell_type": "code",
   "execution_count": 1,
   "id": "95b8f537",
   "metadata": {},
   "outputs": [
    {
     "name": "stdout",
     "output_type": "stream",
     "text": [
      "Enter the value a :3\n",
      "0\n",
      "1\n",
      "4\n"
     ]
    }
   ],
   "source": [
    "if __name__ == '__main__':\n",
    "    n = int(input(\"Enter the value a :\"))\n",
    "\n",
    "for i in range(n):\n",
    "    print(i**2)"
   ]
  },
  {
   "cell_type": "markdown",
   "id": "314a024a",
   "metadata": {},
   "source": [
    "# Function"
   ]
  },
  {
   "cell_type": "code",
   "execution_count": 9,
   "id": "d12d633a",
   "metadata": {},
   "outputs": [
    {
     "name": "stdout",
     "output_type": "stream",
     "text": [
      "1990\n",
      "False\n"
     ]
    }
   ],
   "source": [
    "def is_leap(year):\n",
    "    leap = False\n",
    "    \n",
    "    if year % 4 == 0 and (year % 100 != 0 or year % 400 == 0):\n",
    "        return True\n",
    "    else:\n",
    "        return False\n",
    "\n",
    "    \n",
    "   \n",
    "    return leap\n",
    "\n",
    "year = int(input())\n",
    "print(is_leap(year))\n",
    "\n",
    "    \n"
   ]
  },
  {
   "cell_type": "code",
   "execution_count": 10,
   "id": "ac42203c",
   "metadata": {},
   "outputs": [
    {
     "name": "stdout",
     "output_type": "stream",
     "text": [
      "5\n",
      "12345"
     ]
    }
   ],
   "source": [
    "if __name__ == '__main__':\n",
    "    n = int(input())\n",
    "    for i in range(1, n+1):\n",
    "        print(i, end=\"\")"
   ]
  },
  {
   "cell_type": "markdown",
   "id": "7814d944",
   "metadata": {},
   "source": [
    "# Time Delta"
   ]
  },
  {
   "cell_type": "code",
   "execution_count": 11,
   "id": "2462e42a",
   "metadata": {},
   "outputs": [
    {
     "name": "stdout",
     "output_type": "stream",
     "text": [
      "2\n",
      "Sun 10 May 2015 13:54:36 -0700\n",
      "Sun 10 May 2015 13:54:36 -0000\n",
      "25200\n",
      "Sat 02 May 2015 19:54:36 +0530\n",
      "Fri 01 May 2015 13:54:36 -0000\n",
      "88200\n"
     ]
    }
   ],
   "source": [
    "from datetime import datetime\n",
    "\n",
    "# function to calculate the absolute difference (in seconds) between two timestamps\n",
    "def time_delta(t1, t2):\n",
    "    # convert the timestamps to datetime objects\n",
    "    dt1 = datetime.strptime(t1, '%a %d %b %Y %H:%M:%S %z')\n",
    "    dt2 = datetime.strptime(t2, '%a %d %b %Y %H:%M:%S %z')\n",
    "    # calculate the absolute difference (in seconds) between the datetime objects\n",
    "    diff = abs(int((dt2 - dt1).total_seconds()))\n",
    "    return diff\n",
    "\n",
    "# main function\n",
    "if __name__ == '__main__':\n",
    "    # read the number of testcases\n",
    "    t = int(input().strip())\n",
    "\n",
    "    # loop over the testcases\n",
    "    for i in range(t):\n",
    "        # read the two timestamps\n",
    "        t1 = input().strip()\n",
    "        t2 = input().strip()\n",
    "        # calculate the absolute difference (in seconds) between the timestamps\n",
    "        diff = time_delta(t1, t2)\n",
    "        # print the result\n",
    "        print(diff)"
   ]
  },
  {
   "cell_type": "markdown",
   "id": "f25dc761",
   "metadata": {},
   "source": [
    "# Word Order"
   ]
  },
  {
   "cell_type": "code",
   "execution_count": 12,
   "id": "1875010f",
   "metadata": {},
   "outputs": [
    {
     "name": "stdout",
     "output_type": "stream",
     "text": [
      "4\n",
      "bcdef\n",
      "abcdefg\n",
      "bcde\n",
      "bcdef\n",
      "3\n",
      "2 1 1\n"
     ]
    }
   ],
   "source": [
    "n = int(input())\n",
    "words = {}\n",
    "\n",
    "for i in range(n):\n",
    "    w = input().strip()\n",
    "    if words.get(w) == None:\n",
    "        words[w] = 1\n",
    "    else:\n",
    "        words[w] += 1\n",
    "\n",
    "print(len(words))\n",
    "\n",
    "counts = \"\"\n",
    "for i in words:\n",
    "    counts += str(words[i]) + \" \"\n",
    "\n",
    "print(counts.rstrip())"
   ]
  },
  {
   "cell_type": "markdown",
   "id": "cb524ad4",
   "metadata": {},
   "source": [
    "# Collections.deque()"
   ]
  },
  {
   "cell_type": "code",
   "execution_count": 13,
   "id": "192cc9a6",
   "metadata": {},
   "outputs": [
    {
     "name": "stdout",
     "output_type": "stream",
     "text": [
      "6\n",
      "append 1\n",
      "append 2\n",
      "append 3\n",
      "appendleft 4\n",
      "pop\n",
      "popleft\n",
      "1 2\n"
     ]
    }
   ],
   "source": [
    "from collections import deque\n",
    "\n",
    "if __name__ == '__main__':\n",
    "    d = deque()\n",
    "    for _ in range(int(input())):\n",
    "        operation, *value = input().split()\n",
    "        if operation == 'append':\n",
    "            d.append(int(*value))\n",
    "        elif operation == 'appendleft':\n",
    "            d.appendleft(int(*value))\n",
    "        elif operation == 'pop':\n",
    "            d.pop()\n",
    "        elif operation == 'popleft':\n",
    "            d.popleft()\n",
    "\n",
    "    print(*d)\n"
   ]
  },
  {
   "cell_type": "code",
   "execution_count": null,
   "id": "75be871b",
   "metadata": {},
   "outputs": [],
   "source": []
  }
 ],
 "metadata": {
  "kernelspec": {
   "display_name": "Python 3 (ipykernel)",
   "language": "python",
   "name": "python3"
  },
  "language_info": {
   "codemirror_mode": {
    "name": "ipython",
    "version": 3
   },
   "file_extension": ".py",
   "mimetype": "text/x-python",
   "name": "python",
   "nbconvert_exporter": "python",
   "pygments_lexer": "ipython3",
   "version": "3.9.13"
  }
 },
 "nbformat": 4,
 "nbformat_minor": 5
}
